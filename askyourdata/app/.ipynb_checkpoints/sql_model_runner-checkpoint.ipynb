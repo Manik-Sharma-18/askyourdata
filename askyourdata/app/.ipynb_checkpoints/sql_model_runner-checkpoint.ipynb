{
 "cells": [
  {
   "cell_type": "code",
   "execution_count": null,
   "id": "257c9402-13a2-41d0-a421-c491ad5f19c2",
   "metadata": {},
   "outputs": [],
   "source": [
    "from llama_cpp import Llama\n",
    "\n",
    "# Load the GGUF model (change the path if different)\n",
    "llm = Llama(\n",
    "    model_path=r\"C:\\Users\\Manik\\AskYourData Project\\models\\sqlcoder-7b-2-q4_k_m.gguf\",\n",
    "    n_ctx=2048,\n",
    "    n_threads=6,\n",
    "    verbose=False\n",
    ")\n",
    "\n",
    "def translate_to_sql(question: str, schema: str) -> str:\n",
    "    prompt = f\"\"\"You are an expert data analyst writing SQLite queries ONLY.\n",
    "You are given a database schema. You must follow these rules:\n",
    "- Only use table and column names from the schema\n",
    "- Do NOT use PostgreSQL syntax like ILIKE, NULLS LAST, or LIMIT ALL\n",
    "- Use only standard SQLite syntax (LIKE instead of ILIKE)\n",
    "- Match case-sensitive table names exactly\n",
    "- Always use table names in lowercase if that’s how they appear in schema\n",
    "- Write simple, clean SELECT queries\n",
    "- Do NOT alias table names unless absolutely necessary\n",
    "\n",
    "Schema:\n",
    "{schema}\n",
    "\n",
    "Question: {question}\n",
    "SQL:\"\"\"\n",
    "\n",
    "    response = llm(prompt, max_tokens=256, stop=[\"\\n\\n\", \";\"])\n",
    "    return response[\"choices\"][0][\"text\"].strip()"
   ]
  },
  {
   "cell_type": "code",
   "execution_count": null,
   "id": "1419edc0-ddad-46d3-b81d-4ba5e4e05a13",
   "metadata": {},
   "outputs": [],
   "source": []
  }
 ],
 "metadata": {
  "kernelspec": {
   "display_name": "Python 3 (ipykernel)",
   "language": "python",
   "name": "python3"
  },
  "language_info": {
   "codemirror_mode": {
    "name": "ipython",
    "version": 3
   },
   "file_extension": ".py",
   "mimetype": "text/x-python",
   "name": "python",
   "nbconvert_exporter": "python",
   "pygments_lexer": "ipython3",
   "version": "3.10.0"
  }
 },
 "nbformat": 4,
 "nbformat_minor": 5
}
